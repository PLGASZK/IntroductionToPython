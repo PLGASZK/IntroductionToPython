{
  "metadata": {
    "celltoolbar": "Slideshow",
    "kernelspec": {
      "name": "python",
      "display_name": "Python (Pyodide)",
      "language": "python"
    },
    "language_info": {
      "codemirror_mode": {
        "name": "python",
        "version": 3
      },
      "file_extension": ".py",
      "mimetype": "text/x-python",
      "name": "python",
      "nbconvert_exporter": "python",
      "pygments_lexer": "ipython3",
      "version": "3.8"
    }
  },
  "nbformat_minor": 5,
  "nbformat": 4,
  "cells": [
    {
      "cell_type": "markdown",
      "source": "## AGH University\n## Python in Electrical Engineering - Autumn 2022\n## Lab 1 - Python 3 programming excercises\n",
      "metadata": {
        "slideshow": {
          "slide_type": "slide"
        },
        "tags": []
      },
      "id": "77d18bc2-13c1-495e-8aad-ddbf8e611c19"
    },
    {
      "cell_type": "markdown",
      "source": "\n",
      "metadata": {
        "slideshow": {
          "slide_type": "slide"
        },
        "tags": []
      },
      "id": "ab5e95eb-cb34-4430-be13-94286c5860b6"
    },
    {
      "cell_type": "code",
      "source": "import piplite\nawait piplite.install(['numpy', 'matplotlib', 'scipy', 'bitstring'])",
      "metadata": {},
      "execution_count": null,
      "outputs": [],
      "id": "35dc4262-3551-4e1e-bb42-33a9139cef31"
    },
    {
      "cell_type": "code",
      "source": "",
      "metadata": {},
      "execution_count": null,
      "outputs": [],
      "id": "15247a53-fe3d-4281-bc9a-3b57cffa3cd8"
    },
    {
      "cell_type": "markdown",
      "source": "### <font color='blue'>PART 1</font>\n### <font color='blue'>PEP 8 -- Style Guide for Python Code</font>\n\nhttps://www.python.org/dev/peps/pep-0008/",
      "metadata": {
        "slideshow": {
          "slide_type": "slide"
        }
      },
      "id": "9d508f53-5968-4842-8287-0c731f526548"
    },
    {
      "cell_type": "markdown",
      "source": "#### 1.1 Reformat the following code to be aligned with PEP 8 - Naming variables and constants",
      "metadata": {
        "slideshow": {
          "slide_type": "slide"
        },
        "tags": []
      },
      "id": "4584100f-968a-4b5a-8dfb-cd36380f1268"
    },
    {
      "cell_type": "code",
      "source": "# There are four variables that hold the EUR prices of the following products: eggs, potatoes, mushrooms and meat:\neggs = 45\npotatoes = 12\nmushrooms = 9\nmeat = 30\n\n# and one constant that stores the discount level:\ndiscount = 87 # constant percentage value\n\n# Then the total price (including discount) is calculated and printed out:\nx = (eggs + potatoes + mushrooms + meat) * discount/100\nprint(f'The total price after discount is EUR {x}')",
      "metadata": {},
      "execution_count": 10,
      "outputs": [
        {
          "name": "stdout",
          "output_type": "stream",
          "text": "The total price after discount is EUR 83.52\n"
        }
      ],
      "id": "9ed74bb6-6f10-449a-9eff-ed27b487df99"
    },
    {
      "cell_type": "markdown",
      "source": "#### 1.2 Reformat the following code to be aligned with PEP 8 - Naming functions",
      "metadata": {
        "slideshow": {
          "slide_type": "slide"
        }
      },
      "id": "721767dc-82fc-47cb-9ad8-38d999a5ecbe"
    },
    {
      "cell_type": "code",
      "source": "# There is a declaration of function that checks if a given number is prime:\ndef liczbypierwsze(number):\n    flag = False\n    if number > 1:\n        for i in range(2, number):\n            if (number % i) == 0:\n                flag = True\n                break\n    if flag:\n        print(number, \"is not a prime number\")\n    else:\n        print(number, \"is a prime number\")\n\n# Example function call\nliczbypierwsze(51)",
      "metadata": {},
      "execution_count": 9,
      "outputs": [
        {
          "name": "stdout",
          "output_type": "stream",
          "text": "51 is not a prime number\n"
        }
      ],
      "id": "3f5dabb4-ef8e-4a3f-b541-1504c4b0de91"
    },
    {
      "cell_type": "markdown",
      "source": "#### 1.3 Reformat the following code to work and to be aligned with PEP 8 - Indentation, comments, whitespaces around assignment operators and comparisons",
      "metadata": {
        "slideshow": {
          "slide_type": "slide"
        }
      },
      "id": "a0633e4f-27e9-4968-a23a-dd4fa14f08b6"
    },
    {
      "cell_type": "code",
      "source": "import numpy as np\n\nrandom_list=np.random.randint(100, size = (10, 10))          # This is a 10x10 list of random numbers Find the location (row,column)\n                                                             # and the value of its maximum element  \n\nvalue_max = 0         #Inicjalization of variable which will store the maximum value\ni_max = 0\nj_max = 0             #ThisVariableStoresJIndex\nfor i in range(0,len(random_list)):\n    for j in range(0,len(random_list)):\n        if random_list[i,j] > value_max:\n            value_max = random_list[i,j]\n            i_max = i\n            j_max = j\nprint(f'List of random elements: \\n {random_list}')            \nprint(f'Maximum element {value_max} is located at {i_max},{j_max}')  ",
      "metadata": {},
      "execution_count": 20,
      "outputs": [
        {
          "name": "stdout",
          "output_type": "stream",
          "text": "List of random elements: \n\n [[22 29 86 67 45 93 27 61 66 10]\n\n [56 78 39 35 79  7 61  7 87 24]\n\n [ 5 13 94 60 64 43 74 51 55 67]\n\n [96 27 63 88 17 12 84 33 30 59]\n\n [ 6 94 36 50 45 13 69 92 35 92]\n\n [13 44 50 67 92 41 38 90 56 37]\n\n [74 82  9 29 18 41 34 88 53 20]\n\n [54  7 66 65 42 53 33 43 77 30]\n\n [74 11  9  2 68 51 87 51 88 25]\n\n [79 79  6  0 94 29 42 55 93 38]]\n\nMaximum element 96 is located at 3,0\n"
        }
      ],
      "id": "9e2d5308-5938-4a82-97fe-c27e50d42b46"
    },
    {
      "cell_type": "markdown",
      "source": "### <font color='blue'>PART 2</font>\n### <font color='blue'>Built-in variables in Python</font>",
      "metadata": {
        "slideshow": {
          "slide_type": "slide"
        }
      },
      "id": "b97c9bdb-8889-46ef-b08c-e9d1424bc009"
    },
    {
      "cell_type": "markdown",
      "source": "#### 2.1 Create program to reverse words in a given string",
      "metadata": {
        "slideshow": {
          "slide_type": "slide"
        }
      },
      "id": "2513bd59-c8d4-49b2-a017-ee55a43ab60b"
    },
    {
      "cell_type": "code",
      "source": "text = 'hey hi hello' #input(\"Enter text: \")\nwords = text.split()\nx = len(words)\nwords.reverse()\nwords[::-1]\nprint(words)\n#i=0\n#while i < len(words):\n #   print(words[i])\n  #  i += 1\n\n#zdanie    \n# Write your code here:\n#  this program compiling correctly in Pycharm, the jupyter lab has problems due to compilation of reading type of inputed text by user\n# text = input(\"Enter text: \")\n# print(\" \".join(text.split()[::-1]))\n",
      "metadata": {},
      "execution_count": 10,
      "outputs": [
        {
          "name": "stdout",
          "output_type": "stream",
          "text": "['hello', 'hi', 'hey']\n"
        }
      ],
      "id": "8b30b864-8452-4212-b691-7d7fab36cea9"
    },
    {
      "cell_type": "markdown",
      "source": "#### 2.2 Create program that returns a tuple with repeated elements in a given list",
      "metadata": {
        "slideshow": {
          "slide_type": "slide"
        }
      },
      "id": "8b4aed23-501d-4a6f-9ea7-a6741510738e"
    },
    {
      "cell_type": "code",
      "source": "# Write your code here:\ndef convert(list):\n    return tuple(list)\n  \n# Driver function\nlist = [3, 3, 3, 4]\nprint(convert(list))",
      "metadata": {},
      "execution_count": null,
      "outputs": [],
      "id": "54f88685-a6e2-4354-8742-c8869c281140"
    },
    {
      "cell_type": "markdown",
      "source": "#### 2.3 Compare the size and the processing speed between Python lists, Python tuples and Numpy nd.arrays  for different dataset_size (from 1 to 10e7) and two mathematical operations: \n- adding scalar\n- dot product",
      "metadata": {
        "slideshow": {
          "slide_type": "slide"
        }
      },
      "id": "d0e2e01e-6973-45d4-998c-06eea6a081d7"
    },
    {
      "cell_type": "code",
      "source": "import numpy as np\nimport random\nimport sys\nimport time\n\n########################################\n# Creating [1xdata_set] variables with exactly the same content (int numbers)\n\ndataset_size = 1000 # Value to be modified\nmy_list = []\nfor i in range(0,dataset_size):\n    random_number = random.randint(0,100)\n    my_list.append(random_number)\n\nmy_tuple = tuple(my_list)\nmy_ndarray = np.array(my_list)\nprint(type(my_list), sys.getsizeof(my_list),\"bytes\")\nprint(type(my_tuple), sys.getsizeof(my_tuple),\"bytes\")\nprint(type(my_ndarray), sys.getsizeof(my_ndarray),\"bytes\")\nprint()\n########################################\n\n\n########################################\n# Adding scalar\nprint(\"Adding scalar:\")\n\nscalar = 123\nstart = time.process_time()\nfor i in range(0,len(my_list)):\n    my_list[i] += scalar\nend = time.process_time()\nprint(\"list:\",round((end - start) * 1000,6), \"ms\")\n\n\nscalar = 123\nstart = time.process_time()\nmy_ndarray += scalar\nend = time.process_time()\nprint(\"nd.array:\" ,round((end - start) * 1000,6), \"ms\")\nprint()\n########################################\n\n\n########################################\n# Dot product of two wectors. This is one of the most important calculations in machine learning.\nprint(\"Dot product:\")\n\nsum = 0\nstart = time.process_time()\nfor i in range(0,len(my_list)):\n    sum += my_list[i] * my_list[i]\nend = time.process_time()\nprint(\"list:\",round((end - start) * 1000,6), \"ms\")\n\nsum = 0\nstart = time.process_time()\nfor i in range(0,len(my_tuple)):\n    sum += my_tuple[i] * my_tuple[i]\nend = time.process_time()\nprint(\"tuple:\",round((end - start) * 1000,6), \"ms\")\n\nsum = 0\nstart = time.process_time()\nnp.dot(my_ndarray,my_ndarray)\nend = time.process_time()\nprint(\"nd.array:\",round((end - start) * 1000,6), \"ms\")\n########################################\n\n\n\n# Decribe your results here. Explain noticed time differences.\n#this part of exercises is done in pycharm\n# For dataset_size 10e7 class list has the most bytes than the others and it is 89095160 bytes, for class tuple it is 80000040 bytes and numpy is 40000112. For adding scalar method time to compile list is:1218.75ms for nd.array 0.0 ms. For Dot pruduct method time to compile list is 1515.625 ms, tuple 1609.375ms and nd.array 0.0ms.\n# For dataset_size from 1 to 10e4 the results are the same and it is any difference between them.\n# For dataset_size 10e5 class list has the most bytes than the others and it is 800984 bytes, for class tuple it is 800040 bytes and numpy is 400112 bytes. For adding scalar method time to compile list is:15.625ms for nd.array 0.0 ms. For Dot pruduct method time to compile list is 15.625 ms, tuple 31.25ms and nd.array 0.0ms.\n# For dataset_size 10e6 class list has the most bytes than the others and it is 8448728 bytes bytes, for class tuple it is 8000040 bytes and numpy is 4000112 bytes. For adding scalar method time to compile list is:109.375 ms for nd.array 0.0 ms. For Dot pruduct method time to compile list is 171.875 ms, tuple 171.875 ms and nd.array 0.0ms.\n# Summary\n# which inreasing the dataset_size the times for specific classes increasing too, class numpy have already the lowest size, the most dynamic method to compile is list because have the lowest time needed to compile ",
      "metadata": {},
      "execution_count": 26,
      "outputs": [
        {
          "name": "stdout",
          "output_type": "stream",
          "text": "<class 'list'> 4428 bytes\n\n<class 'tuple'> 4020 bytes\n\n<class 'numpy.ndarray'> 4056 bytes\n\n\n\nAdding scalar:\n\nlist: 0.0 ms\n\nnd.array: 0.0 ms\n\n\n\nDot product:\n\nlist: 0.0 ms\n\ntuple: 0.0 ms\n\nnd.array: 0.0 ms\n"
        }
      ],
      "id": "ac17eb2e-d395-4ef3-ba3d-9c756ba1ed0e"
    },
    {
      "cell_type": "markdown",
      "source": "#### 2.4 Create a dictionary where keys are the unique values of a given list and values are their frequencies in a given list",
      "metadata": {
        "slideshow": {
          "slide_type": "slide"
        }
      },
      "id": "200caed9-b7a0-430e-8397-1d626e51c2b3"
    },
    {
      "cell_type": "code",
      "source": "# Write your code here:\nfrom collections import defaultdict\ndef frequencies(lst):\n  freq = defaultdict(int)\n  for val in lst:\n    freq[val] += 1\n  return dict(freq) \nprint(frequencies(['a', 'b', 'f', 'a', 'c', 'e', 'a', 'a', 'b', 'e', 'f'])) \nprint(frequencies([3,4,7,5,9,3,4,5,0,3,2,3])",
      "metadata": {},
      "execution_count": null,
      "outputs": [],
      "id": "813fa230-1e26-4b24-839a-4cdb8e60501f"
    },
    {
      "cell_type": "markdown",
      "source": "#### 2.5 Estimate and compare the Big O notation for a membership test in lists, tuples, ndarrays and sets\nhttps://www.freecodecamp.org/news/big-o-notation-why-it-matters-and-why-it-doesnt-1674cfa8a23c/",
      "metadata": {
        "slideshow": {
          "slide_type": "slide"
        }
      },
      "id": "7a4f7438-d918-4449-a1a0-586a88de5d83"
    },
    {
      "cell_type": "code",
      "source": "import numpy as np\nimport random\nimport sys\nimport time\n\n########################################\n# Creating [1xdata_set] variables with exactly the same content (float numbers)\n\ndataset_size = 10000000\nmy_list = []\nfor i in range(0,dataset_size):\n    random_number = random.uniform(0,100)\n    my_list.append(random_number)\n\nmy_tuple = tuple(my_list)\nmy_ndarray = np.array(my_list)\nmy_set = set(my_list)\n\nprint(type(my_list), sys.getsizeof(my_list),\"bytes\")\nprint(type(my_tuple), sys.getsizeof(my_tuple),\"bytes\")\nprint(type(my_ndarray), sys.getsizeof(my_ndarray),\"bytes\")\nprint(type(my_set), sys.getsizeof(my_set),\"bytes\")\nprint()\n########################################\n\n########################################\n# Example of the membership test in a list\nstart = time.process_time()\n1 in my_list\nend = time.process_time()\nprint(\"Membership test time of a list:\",round((end - start) * 1000,6), \"ms\")\n\n\n# Example of the membership test in a list\nstart = time.process_time()\n1 in my_ndarray\nend = time.process_time()\nprint(\"Membership test time of a ndarray:\",round((end - start) * 1000,6), \"ms\")\n\n\n# Example of the membership test in a set\nstart = time.process_time()\n1 in my_set\nend = time.process_time()\nprint(\"Membership test time of a set:\",round((end - start) * 1000,6), \"ms\")\n\n# Write your code, results and comments here. Explain noticed BigO differences. \n# You can use matplotlib library for results visualisation\n#For dataset_size 10e7 classes have : list( 89095160 bytes), tuple(80000040 bytes), numpy.ndarray(80000112 bytes), set(268435672 bytes) and membership test times are : Membership test time of a list: 203.125 ms,Membership test time of a ndarray: 31.25 ms, Membership test time of a set: 0.0 ms\n#For dataset_size 10e6 classes have : list( 8448728 bytes), tuple(8000040 bytes), numpy.ndarray(8000112 bytes), set(33554648 bytes) and membership test times are : Membership test time of a list: 15.625 ms,Membership test time of a ndarray: 15.625 ms, Membership test time of a set: 0.0 ms\n#For dataset_size 10e5 classes have : list( 800984 bytes), tuple(800040 bytes), numpy.ndarray(800112 bytes), set(4194520 bytes) and membership test times are : Membership test time of a list: 0.0ms,Membership test time of a ndarray: 0.0 ms, Membership test time of a set: 0.0 ms\n# Summary\n# Generally class set have the most bytes, below dataset_size 10e5 membership test time is not relevant for any class because all are 0, for dataset_size above 10e5 membership test for class ndarray is the fastest \n",
      "metadata": {},
      "execution_count": 1,
      "outputs": [
        {
          "name": "stdout",
          "output_type": "stream",
          "text": "<class 'list'> 44547580 bytes\n\n<class 'tuple'> 40000020 bytes\n\n<class 'numpy.ndarray'> 80000056 bytes\n\n<class 'set'> 134217836 bytes\n\n\n\nMembership test time of a list: 0.0 ms\n\nMembership test time of a ndarray: 0.0 ms\n\nMembership test time of a set: 0.0 ms\n"
        }
      ],
      "id": "8c39e2c4-e35f-4cd7-b6b7-37ba04adf9ef"
    },
    {
      "cell_type": "markdown",
      "source": "### <font color='blue'>PART 3</font>\n### <font color='blue'>Conditionals and loops</font>",
      "metadata": {
        "slideshow": {
          "slide_type": "slide"
        },
        "tags": []
      },
      "id": "a3a4d8cf-72ca-471a-a401-743d9a55ec37"
    },
    {
      "cell_type": "markdown",
      "source": "##### 3.1 Calculate the value of the expression:\n\n\n$$\\sum^{10}_{\\begin{gathered}i=1\\\\ k=1\\\\ i\\neq k\\end{gathered} } i\\cdot k=$$",
      "metadata": {
        "slideshow": {
          "slide_type": "slide"
        },
        "tags": []
      },
      "id": "8841f683-d8a5-49bb-b476-058201b84b4e"
    },
    {
      "cell_type": "code",
      "source": "i=1\nk=1\nx=0\nwhile i <= 10:\n    x = (i * k) + x\n    i += 1\nprint(x)",
      "metadata": {
        "slideshow": {
          "slide_type": "-"
        },
        "tags": []
      },
      "execution_count": 22,
      "outputs": [
        {
          "name": "stdout",
          "output_type": "stream",
          "text": "55\n"
        }
      ],
      "id": "6a6333b7-3215-4688-b46a-3815ed61b882"
    },
    {
      "cell_type": "markdown",
      "source": "##### 3.2 Calculate the value of the expression:\n\n\n$$\\sqrt[3]{\\sum^{10}_{i=1} \\prod^{i}_{j=1} cos(\\pi \\cdot i)}= $$",
      "metadata": {
        "slideshow": {
          "slide_type": "slide"
        },
        "tags": []
      },
      "id": "89e13f98-68b0-4bbe-a811-5c81eba36313"
    },
    {
      "cell_type": "code",
      "source": "# Write your code here:\nfrom math import pi\nfrom math import cos\nsuma = 0\nSum = 0\na=1\nfor i in range(1,11):\n    a = cos(i*pi)*a\n    Sum += a\nprint(Sum)\ntest = Sum * -1\nwynik = test ** (1/3)\nkoniec = wynik * -1\nprint (koniec)\n",
      "metadata": {
        "slideshow": {
          "slide_type": "-"
        },
        "tags": [],
        "trusted": true
      },
      "execution_count": 34,
      "outputs": [
        {
          "name": "stdout",
          "text": "-2.0\n-1.2599210498948732\n",
          "output_type": "stream"
        }
      ],
      "id": "53c9d419-7a62-4562-b9aa-1a13ad5d02a4"
    },
    {
      "cell_type": "markdown",
      "source": "##### 3.3 Calculate the value of the expression:\n\n\nx= [92, 82, 64, 39, 82, 72, 39, 100, 58, 28, 100, 50, 8, 51, 56, 49, 85, 99, 88, 41]\n\n$$\\sqrt{\\frac{1}{n} \\sum^{11}_{0} x[i]}= $$",
      "metadata": {
        "slideshow": {
          "slide_type": "slide"
        }
      },
      "id": "33bf40f3-e6fd-47a0-a7af-ba626ceab43e"
    },
    {
      "cell_type": "code",
      "source": "# Write your code here:\nfrom math import sqrt\nx = [92, 82, 64, 39, 82, 72, 39, 100, 58, 28, 100, 50, 8, 51, 56, 49, 85, 99, 88, 41]\ni = 0\nn = len(x)\nsuma = 0\nwhile i <= 11:\n    suma = x[i] + suma\n    i += 1\nwynik = suma / n\nsqrt(wynik)\n",
      "metadata": {},
      "execution_count": 38,
      "outputs": [
        {
          "execution_count": 38,
          "output_type": "execute_result",
          "data": {
            "text/plain": [
              "6.348228099241551"
            ]
          },
          "metadata": {}
        }
      ],
      "id": "c2f50306-4293-4db7-9232-13ba8d9c3eeb"
    },
    {
      "cell_type": "markdown",
      "source": "\n##### 3.4 Create a program to check the validity of the entered password\n\n- Allowed length: from 8 do 16 characters,\n- At least 1 letter between [a-z], \n- At least 1 letter between [A-Z],\n- At least 1 number between [0,9]\n- At least 1 character from [!@#].\n\n",
      "metadata": {
        "slideshow": {
          "slide_type": "slide"
        },
        "tags": []
      },
      "id": "bf6d2ee3-7cb0-44cf-ba5c-b670a27b0b17"
    },
    {
      "cell_type": "code",
      "source": "pswd = (\"Elooooo1!\")\nliterki = list(range(97, 123))\nlitery = list(range(65, 91))\ncyferki = list(range(48, 58))\nznaki = [33, 35, 64]\n\n\ndef zamiana(x):\n    l = len(x)\n    i = 0\n    while i < l:\n        x[i] = chr(x[i])\n        i += 1\n    return x\n\ndef sprawdzanie(x, y):\n    dlugosc = len(y)\n    n = 0\n    while n < dlugosc:\n        if (y[n] in x) == True:\n            return \"OK\"\n        elif (y[n] in x) == False:\n            n += 1\n            if n == dlugosc:\n                return \"Brak\"\n\n\ndlugosc = len(pswd)\nif dlugosc < 8:\n    print(\"Hasło jest za krótkie !\")\nelif dlugosc > 16:\n    print(\"Hasło jest za długie !\")\nelse:\n    m = zamiana(literki)\n    M = zamiana(litery)\n    Z = zamiana(znaki)\n    C = zamiana(cyferki)\n\n    h = sprawdzanie(pswd, m)\n    i = sprawdzanie(pswd, M)\n    j = sprawdzanie(pswd, Z)\n    k = sprawdzanie(pswd, C)\n    print('Małe literki: ', h)\n    print('Duże litery: ', i)\n    print('Znaki specjalne: ', j)\n    print('Cyfry: ', k)",
      "metadata": {},
      "execution_count": 7,
      "outputs": [
        {
          "name": "stdout",
          "output_type": "stream",
          "text": "Małe literki:  OK\n\nDuże litery:  OK\n\nZnaki specjalne:  OK\n\nCyfry:  OK\n"
        }
      ],
      "id": "c372690d-d0ab-439f-b713-83466fb66176"
    },
    {
      "cell_type": "markdown",
      "source": "##### 3.5 Generate an array [1x32] filled with randomly placed zeros and ones. Then write an algorithm that converts this array to a decimal number using the IEEE 754 standard defining a binary 32-bit floating point number.\n\nhttps://en.wikipedia.org/wiki/IEEE_754\n\nhttps://en.wikibooks.org/wiki/A-level_Computing/AQA/Paper_2/Fundamentals_of_data_representation/Floating_point_numbers\n\n#### Example 1:\n\nInput array:\n [0 1 0 0 0 0 0 0 1 1 1 0 0 0 0 0 0 0 0 0 0 0 0 0 0 0 0 0 0 0 0 0] \n\nExponent:\n- Binary:  [1. 0. 0. 0. 0. 0. 0. 1.]\n\n- Decimal:  129.0 \n\nMantissa:\n- Binary: [1. 1. 0. 0. 0. 0. 0. 0. 0. 0. 0. 0. 0. 0. 0. 0. 0. 0. 0. 0. 0. 0. 0.]\n\n- Decimal:  0.75 \n\nResult (decimal number):  7.0 \n\n#### Example 2:\n\nInput array:\n [1. 1. 0. 0. 1. 1. 0. 0. 1. 1. 1. 0. 1. 0. 0. 1. 1. 1. 1. 1. 1. 1. 0. 1.\n 0. 0. 1. 1. 1. 1. 1. 1.] \n\nExponent:  \n- Binary: [1. 0. 0. 1. 1. 0. 0. 1.]\n\n- Decimal:  153.0 \n\nMantissa:  \n- Binary: [1. 1. 0. 1. 0. 0. 1. 1. 1. 1. 1. 1. 1. 0. 1. 0. 0. 1. 1. 1. 1. 1. 1.]\n\n- Decimal:  0.8280409574508667 \n\nResult (decimal number):  -122677752.0 ",
      "metadata": {
        "slideshow": {
          "slide_type": "slide"
        },
        "tags": []
      },
      "id": "5d67459c-e615-473c-b25b-19f21db3cc27"
    },
    {
      "cell_type": "code",
      "source": "# Write your code here:\nfrom random import randint\n\ni = 0\nliczba = list(range(0,32))\n#print(liczba)\nwhile i < 32:\n    liczba[i] = randint(0,1)\n    i += 1\nprint(liczba)\nn = 0\nx = list(range(0,32))\nsuma = 0\nwhile n < 32:\n    if liczba[n] == 1:\n        x[n] = 2**(31-n)\n    elif liczba[n] == 0:\n        x[n] = 0\n    suma = suma + x[n]\n    n += 1\n#print(liczba[0],liczba[1])\n#binarna = int(liczba)\n#print(binarna)\n\nprint(suma)\n\n\"\"\"Hint: You can use the bitstring function to verify the correctness of your algorithm.\"\"\"\n# import bitstring\n# f1 = bitstring.BitArray(float=wynik, length=32)\n# print(f1.bin)",
      "metadata": {},
      "execution_count": 32,
      "outputs": [
        {
          "name": "stdout",
          "output_type": "stream",
          "text": "[1, 1, 0, 1, 1, 1, 1, 1, 1, 1, 0, 1, 1, 1, 0, 0, 1, 0, 1, 1, 0, 1, 1, 1, 0, 0, 0, 1, 0, 1, 0, 0]\n\n3755783956\n"
        },
        {
          "execution_count": 32,
          "output_type": "execute_result",
          "data": {
            "text/plain": [
              "'Hint: You can use the bitstring function to verify the correctness of your algorithm.'"
            ]
          },
          "metadata": {}
        }
      ],
      "id": "37ab7e9f-3559-44d1-bcc3-f59f467dab3f"
    },
    {
      "cell_type": "markdown",
      "source": "### <font color='blue'>PART 4</font>\n### <font color='blue'>User functions</font>",
      "metadata": {
        "slideshow": {
          "slide_type": "slide"
        }
      },
      "id": "a6a7290c-1b95-43c7-be4b-3c43625a8b6f"
    },
    {
      "cell_type": "markdown",
      "source": "##### 4.1 Create a function that determines the square root of a positive number using the Babylonian method with a given accuracy:\n\n$$x_{0}\\approx \\sqrt{S} $$\n\n$$x_{n+1}=\\frac{1}{2} (x_{n}+\\frac{S}{x_{n}} )$$\n\n$$\\sqrt{S} =\\lim_{n\\rightarrow \\infty } x_{n}$$",
      "metadata": {
        "slideshow": {
          "slide_type": "slide"
        }
      },
      "id": "4937e443-3d99-463d-950e-1a9abb5b38a5"
    },
    {
      "cell_type": "code",
      "source": "def square_root(S, epsilon): #Two args: the positive number (S) and the accuracy (epsilon) \n\n    x = S**-2\n    y = S/x\n    while(x - y > epsilon):\n        x = (1/2) * (x+y)\n        y = S/x\n        \n    return x\n     \nprint(square_root(15,0.001))\n        ",
      "metadata": {},
      "execution_count": 36,
      "outputs": [
        {
          "name": "stdout",
          "output_type": "stream",
          "text": "0.0044444444444444444\n"
        }
      ],
      "id": "53a31086-0ba0-444d-8374-a3d47db7a18f"
    },
    {
      "cell_type": "markdown",
      "source": "##### 4.2 Create a function that check if a given string contains every alphabet letter at least once",
      "metadata": {
        "slideshow": {
          "slide_type": "slide"
        }
      },
      "id": "c8263cb4-143c-4133-a45f-47d733e7d310"
    },
    {
      "cell_type": "code",
      "source": "def sprawdzanie(x):\n    dlugosc = len(x)\n    literki = list(range(97,123))\n    #litery = list(range(65,91))\n    alfabet = literki# + litery\n# zamiana\n    l = len(alfabet)\n    i = 0\n    while i < l:\n        alfabet[i] = chr(alfabet[i])\n        i += 1\n    n = 0\n    while n < dlugosc:\n        if (alfabet[n] in x) == True:\n            n += 1\n            if n == dlugosc:\n                print('Ciąg posiada conajmniej jedną litere z alfabetu')\n        elif (alfabet[n] in x) == False:\n            print('Brak litery ', alfabet[n], ' w ciągu')\n            break\n\nwyraz = ['a','b','c','d','e','f','g','h','i','j','k','l','n','o','p','m','q','r','s','t','u','v','w','x','y','z']\n#print(wyraz)\nsprawdzanie(wyraz)",
      "metadata": {},
      "execution_count": 1,
      "outputs": [
        {
          "name": "stdout",
          "output_type": "stream",
          "text": "Brak litery  e  w ciągu\n"
        }
      ],
      "id": "8917f00d-e8bb-426a-a403-f1074f719b60"
    },
    {
      "cell_type": "code",
      "source": "",
      "metadata": {},
      "execution_count": null,
      "outputs": [],
      "id": "c964ed3b-c4a5-4f28-ba83-282cfef90a24"
    }
  ]
}